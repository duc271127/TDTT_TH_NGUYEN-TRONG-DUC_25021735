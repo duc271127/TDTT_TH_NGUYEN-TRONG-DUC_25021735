{
 "cells": [
  {
   "cell_type": "markdown",
   "id": "0db87be5",
   "metadata": {},
   "source": [
    "#W2A1"
   ]
  },
  {
   "cell_type": "code",
   "execution_count": 6,
   "id": "32e132c1",
   "metadata": {},
   "outputs": [
    {
     "name": "stdout",
     "output_type": "stream",
     "text": [
      "Hello Word!\n"
     ]
    }
   ],
   "source": [
    "print(\"Hello Word!\")"
   ]
  },
  {
   "cell_type": "markdown",
   "id": "d7bd8ca9",
   "metadata": {},
   "source": [
    "#W2A2"
   ]
  },
  {
   "cell_type": "code",
   "execution_count": 7,
   "id": "4a4a283e",
   "metadata": {},
   "outputs": [
    {
     "name": "stdout",
     "output_type": "stream",
     "text": [
      "Xin chào, \n"
     ]
    }
   ],
   "source": [
    "name = input(\"Nhập tên của bạn: \")\n",
    "print(\"Xin chào,\", name)"
   ]
  },
  {
   "cell_type": "markdown",
   "id": "b94454ca",
   "metadata": {},
   "source": [
    "#W2A3"
   ]
  },
  {
   "cell_type": "code",
   "execution_count": 9,
   "id": "e31afe48",
   "metadata": {},
   "outputs": [
    {
     "name": "stdout",
     "output_type": "stream",
     "text": [
      "Tổng: 11\n",
      "Hiệu: -1\n",
      "Tích: 30\n",
      "Phần nguyên: 0\n",
      "Phần dư: 5\n",
      "Chia thực: 0.83\n"
     ]
    }
   ],
   "source": [
    "a = int(input(\"Nhập a: \"))\n",
    "b = int(input(\"Nhập b: \"))\n",
    "\n",
    "tong = a + b\n",
    "hieu = a - b\n",
    "tich = a * b\n",
    "\n",
    "if b != 0:\n",
    "    chia_nguyen = a // b\n",
    "    chia_du = a % b\n",
    "    chia_thuc = a / b\n",
    "else:\n",
    "    chia_nguyen = \"sai\"\n",
    "    chia_du = \"sai\"\n",
    "    chia_thuc = \"sai\"\n",
    "\n",
    "print(\"Tổng:\", tong)\n",
    "print(\"Hiệu:\", hieu)\n",
    "print(\"Tích:\", tich)\n",
    "print(\"Phần nguyên:\", chia_nguyen)\n",
    "print(\"Phần dư:\", chia_du)\n",
    "if chia_thuc != \"sai\":\n",
    "    print(\"Chia thực: {:.2f}\".format(chia_thuc))\n",
    "else:\n",
    "    print(\"Chia thực:\", chia_thuc)\n"
   ]
  },
  {
   "cell_type": "markdown",
   "id": "f1b3090c",
   "metadata": {},
   "source": [
    "#W2A4"
   ]
  },
  {
   "cell_type": "code",
   "execution_count": 11,
   "id": "574b8e7b",
   "metadata": {},
   "outputs": [
    {
     "name": "stdout",
     "output_type": "stream",
     "text": [
      "2.1\n"
     ]
    }
   ],
   "source": [
    "scores=input().split()\n",
    "a1,b1,c1,a2,b2,a3 =map(float, scores)\n",
    "tb=((a1+b1+c1)+(a2+b2)*2+a3*3)/10\n",
    "print(round(tb,1))"
   ]
  },
  {
   "cell_type": "markdown",
   "id": "3d90afda",
   "metadata": {},
   "source": [
    "#W2A5"
   ]
  },
  {
   "cell_type": "code",
   "execution_count": 12,
   "id": "94f93303",
   "metadata": {},
   "outputs": [
    {
     "name": "stdout",
     "output_type": "stream",
     "text": [
      "81\n"
     ]
    }
   ],
   "source": [
    "a,b= map(int,input().split())\n",
    "x=a**b\n",
    "print(x)"
   ]
  },
  {
   "cell_type": "markdown",
   "id": "a2c194a4",
   "metadata": {},
   "source": [
    "#W2A6"
   ]
  },
  {
   "cell_type": "code",
   "execution_count": 13,
   "id": "cd7caef8",
   "metadata": {},
   "outputs": [
    {
     "name": "stdout",
     "output_type": "stream",
     "text": [
      "65\n",
      "A\n"
     ]
    }
   ],
   "source": [
    "a=input()\n",
    "print(ord(a))\n",
    "print(a.upper())"
   ]
  },
  {
   "cell_type": "markdown",
   "id": "918d9a82",
   "metadata": {},
   "source": [
    "#W2A7"
   ]
  },
  {
   "cell_type": "code",
   "execution_count": 14,
   "id": "942acd97",
   "metadata": {},
   "outputs": [
    {
     "name": "stdout",
     "output_type": "stream",
     "text": [
      "512\n",
      "512\n"
     ]
    }
   ],
   "source": [
    "A = ((13 ** 2) * 3) + 5\n",
    "B = 13**2*3 + 5\n",
    "print(A)\n",
    "print(B)"
   ]
  },
  {
   "cell_type": "markdown",
   "id": "3e1b3baa",
   "metadata": {},
   "source": [
    "#W2A8"
   ]
  },
  {
   "cell_type": "code",
   "execution_count": 15,
   "id": "d22d473a",
   "metadata": {},
   "outputs": [
    {
     "name": "stdout",
     "output_type": "stream",
     "text": [
      "37.40\n"
     ]
    }
   ],
   "source": [
    "try:\n",
    "    cel = float(input(\"Nhập nhiệt độ (°C): \"))\n",
    "    if cel < -273.15:\n",
    "        print(\"Nhiệt độ không hợp lệ (dưới 0 Kelvin)!\")\n",
    "    else:\n",
    "        F = 9/5 * cel + 32\n",
    "        print(f\"{F:.2f}\")\n",
    "except ValueError:\n",
    "    print(\"⚠️ Vui lòng nhập một số hợp lệ!\")"
   ]
  },
  {
   "cell_type": "markdown",
   "id": "b7dfe54d",
   "metadata": {},
   "source": [
    "#W2A9"
   ]
  },
  {
   "cell_type": "code",
   "execution_count": 16,
   "id": "caeca0ba",
   "metadata": {},
   "outputs": [
    {
     "name": "stdout",
     "output_type": "stream",
     "text": [
      "56.20\n"
     ]
    }
   ],
   "source": [
    "goc=float(input())\n",
    "gia=goc+10 + goc*40/100\n",
    "print(f\"{gia:.2f}\")"
   ]
  },
  {
   "cell_type": "markdown",
   "id": "e9664276",
   "metadata": {},
   "source": [
    "#W2A10"
   ]
  },
  {
   "cell_type": "code",
   "execution_count": null,
   "id": "f921d124",
   "metadata": {},
   "outputs": [],
   "source": [
    "names = input(\"Nhập 3 tên: \").split()\n",
    "\n",
    "if len(names) == 3:\n",
    "    names.reverse()\n",
    "    print(f\"Hi {names[0]}, {names[1]} and {names[2]}.\")\n",
    "else:\n",
    "    print(\"Vui lòng nhập đúng 3 tên!\")\n"
   ]
  },
  {
   "cell_type": "markdown",
   "id": "ea49f181",
   "metadata": {},
   "source": [
    "#W2A11"
   ]
  },
  {
   "cell_type": "code",
   "execution_count": null,
   "id": "284769fd",
   "metadata": {},
   "outputs": [],
   "source": [
    "gio,phut=map(int,input().split())\n",
    "print(gio*3600 +phut*60)\n"
   ]
  },
  {
   "cell_type": "markdown",
   "id": "59eedb4a",
   "metadata": {},
   "source": [
    "#W2A12"
   ]
  },
  {
   "cell_type": "code",
   "execution_count": null,
   "id": "4082a936",
   "metadata": {},
   "outputs": [],
   "source": [
    "n = int(input(\"Nhập cạnh khối Rubik: \"))\n",
    "dan = 6 * (n ** 2)\n",
    "print(dan)\n"
   ]
  },
  {
   "cell_type": "markdown",
   "id": "9c1f0af9",
   "metadata": {},
   "source": [
    "#W2A13"
   ]
  },
  {
   "cell_type": "code",
   "execution_count": null,
   "id": "f7ef3474",
   "metadata": {},
   "outputs": [],
   "source": [
    "a,b=map(int,input().split())\n",
    "x=a*b\n",
    "print(x%10)"
   ]
  },
  {
   "cell_type": "markdown",
   "id": "104cf786",
   "metadata": {},
   "source": [
    "#W2A14"
   ]
  },
  {
   "cell_type": "code",
   "execution_count": null,
   "id": "35c0c7f2",
   "metadata": {},
   "outputs": [],
   "source": [
    "a = int(input(\"Nhập a: \"))\n",
    "b = int(input(\"Nhập b: \"))\n",
    "\n",
    "a, b = b, a\n",
    "\n",
    "print(\"Sau khi hoán đổi:\")\n",
    "print(\"a =\", a)\n",
    "print(\"b =\", b)\n"
   ]
  },
  {
   "cell_type": "markdown",
   "id": "319cd09c",
   "metadata": {},
   "source": [
    "#W2A15"
   ]
  },
  {
   "cell_type": "code",
   "execution_count": null,
   "id": "be1fd3d7",
   "metadata": {},
   "outputs": [],
   "source": [
    "n = int(input(\"Nhập số nguyên dương n: \"))\n",
    "\n",
    "if n > 0:\n",
    "    star_number = 6 * n * (n - 1) + 1\n",
    "    print(star_number)\n",
    "else:\n",
    "    print(\"Vui lòng nhập n > 0\")"
   ]
  },
  {
   "cell_type": "markdown",
   "id": "d4ee7c66",
   "metadata": {},
   "source": [
    "#W2A16"
   ]
  },
  {
   "cell_type": "code",
   "execution_count": null,
   "id": "1180729d",
   "metadata": {},
   "outputs": [],
   "source": [
    "print(\"Spring\\nSummer\\nAutumn\\nWinter\")\n"
   ]
  },
  {
   "cell_type": "markdown",
   "id": "5181abaa",
   "metadata": {},
   "source": [
    "#W2A17"
   ]
  },
  {
   "cell_type": "code",
   "execution_count": null,
   "id": "3ec16624",
   "metadata": {},
   "outputs": [],
   "source": [
    "print(\"*\\n***\\n*****\")"
   ]
  },
  {
   "cell_type": "markdown",
   "id": "3da1baf2",
   "metadata": {},
   "source": [
    "#W2A18"
   ]
  },
  {
   "cell_type": "code",
   "execution_count": null,
   "id": "ceaeb7b8",
   "metadata": {},
   "outputs": [],
   "source": [
    "print(\"### # #  ### ###\")\n",
    "print(\" #  #  #  #   #\")\n",
    "print(\" #  #   # #   #\")\n",
    "print(\" #  #  #  #   #\")\n",
    "print(\" #  # #   #   #\")\n"
   ]
  },
  {
   "cell_type": "markdown",
   "id": "9899b673",
   "metadata": {},
   "source": [
    "#W2A19"
   ]
  },
  {
   "cell_type": "code",
   "execution_count": null,
   "id": "b2459dbe",
   "metadata": {},
   "outputs": [],
   "source": [
    "print(\"Monday\\nTuesday\\nWednesday\\nThursday\\nFriday\\nSaturday\\nSunday\")"
   ]
  },
  {
   "cell_type": "markdown",
   "id": "0dd3c4f7",
   "metadata": {},
   "source": [
    "#W2A20"
   ]
  },
  {
   "cell_type": "code",
   "execution_count": null,
   "id": "2fd05c0b",
   "metadata": {},
   "outputs": [],
   "source": [
    "print(\"January\")\n",
    "print(\"February\")\n",
    "print(\"March\")\n",
    "print(\"April\")\n",
    "print(\"May\")\n",
    "print(\"June\")\n",
    "print(\"July\")\n",
    "print(\"August\")\n",
    "print(\"September\")\n",
    "print(\"October\")\n",
    "print(\"November\")\n",
    "print(\"December\")\n"
   ]
  },
  {
   "cell_type": "markdown",
   "id": "0db7d949",
   "metadata": {},
   "source": [
    "#W2A21"
   ]
  },
  {
   "cell_type": "code",
   "execution_count": null,
   "id": "11d13d21",
   "metadata": {},
   "outputs": [],
   "source": [
    "for i in range(10):\n",
    "    print(\"Hello, world\")\n"
   ]
  }
 ],
 "metadata": {
  "kernelspec": {
   "display_name": ".venv",
   "language": "python",
   "name": "python3"
  },
  "language_info": {
   "codemirror_mode": {
    "name": "ipython",
    "version": 3
   },
   "file_extension": ".py",
   "mimetype": "text/x-python",
   "name": "python",
   "nbconvert_exporter": "python",
   "pygments_lexer": "ipython3",
   "version": "3.13.7"
  }
 },
 "nbformat": 4,
 "nbformat_minor": 5
}
