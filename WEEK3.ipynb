{
 "cells": [
  {
   "cell_type": "markdown",
   "id": "91928786",
   "metadata": {},
   "source": [
    "#W3/1"
   ]
  },
  {
   "cell_type": "code",
   "execution_count": null,
   "id": "461bb61b",
   "metadata": {},
   "outputs": [
    {
     "name": "stdout",
     "output_type": "stream",
     "text": [
      "4221\n"
     ]
    }
   ],
   "source": [
    "#Viết một chương trình nhập vào một số nguyên n và in ra các chữ số đảo ngược nhau.\n",
    "a=int(input())\n",
    "b=0\n",
    "while a>0:\n",
    "    b =b*10 +a%10\n",
    "    a//=10 \n",
    "print(b)\n"
   ]
  },
  {
   "cell_type": "markdown",
   "id": "b9380c3c",
   "metadata": {},
   "source": [
    "#W3/2"
   ]
  },
  {
   "cell_type": "code",
   "execution_count": null,
   "id": "4d2eb65e",
   "metadata": {},
   "outputs": [
    {
     "name": "stdout",
     "output_type": "stream",
     "text": [
      "232323 121212\n"
     ]
    }
   ],
   "source": [
    "#Hoán đổi hai số không sd biến tạm thời\n",
    "#Sử dụng phép toán XOR bitwise để hoán đổi giá trị của hai biến.\n",
    "\n",
    "a, b = map(int, input().split())\n",
    "\n",
    "a = a ^ b   \n",
    "b = a ^ b  \n",
    "a = a ^ b\n",
    "\n",
    "print(a, b)"
   ]
  },
  {
   "cell_type": "markdown",
   "id": "03cdd297",
   "metadata": {},
   "source": [
    "#W3/3"
   ]
  },
  {
   "cell_type": "code",
   "execution_count": 11,
   "id": "96da2f11",
   "metadata": {},
   "outputs": [
    {
     "name": "stdout",
     "output_type": "stream",
     "text": [
      "1 là luỹ thừa của 2\n"
     ]
    }
   ],
   "source": [
    "#Kiểm tra xem một số có phải là lũy thừa của 2 hay không\n",
    "#Sử dụng các toán tử bitwise để xác định xem một số có phải là lũy thừa của 2 hay không.\n",
    "#Gợi ý: Đối với lũy thừa của 2, n & (n-1) == 0\n",
    "\n",
    "n=int(input())\n",
    "if n>0 and n & (n-1) == 0:\n",
    "    print(f\"{n} là luỹ thừa của 2\")\n",
    "else:\n",
    "    print(f\"{n} không là luỹ thừa của 2\")"
   ]
  },
  {
   "cell_type": "markdown",
   "id": "e49871f9",
   "metadata": {},
   "source": [
    "#W3/4"
   ]
  },
  {
   "cell_type": "code",
   "execution_count": 13,
   "id": "a1434f90",
   "metadata": {},
   "outputs": [
    {
     "name": "stdout",
     "output_type": "stream",
     "text": [
      "2.0\n"
     ]
    }
   ],
   "source": [
    "#viêt chương trình chia một số m cho n, kết quả thu được làm tròn xuống\n",
    "m,n=map(float,input().split())\n",
    "print (m//n)"
   ]
  },
  {
   "cell_type": "markdown",
   "id": "e2bd6c6e",
   "metadata": {},
   "source": [
    "#W3/5"
   ]
  },
  {
   "cell_type": "code",
   "execution_count": 14,
   "id": "eaf8d4c5",
   "metadata": {},
   "outputs": [
    {
     "name": "stdout",
     "output_type": "stream",
     "text": [
      "3\n"
     ]
    }
   ],
   "source": [
    "#viêt chương trình chia một số m cho n, kết quả thu được làm tròn lên\n",
    "import math\n",
    "m,n=map(float,input().split())\n",
    "print(math.ceil(m/n))"
   ]
  },
  {
   "cell_type": "markdown",
   "id": "98a39982",
   "metadata": {},
   "source": [
    "#W3/6"
   ]
  },
  {
   "cell_type": "code",
   "execution_count": 15,
   "id": "9a6bae6f",
   "metadata": {},
   "outputs": [
    {
     "name": "stdout",
     "output_type": "stream",
     "text": [
      "Even\n"
     ]
    }
   ],
   "source": [
    "#[Even and Odd]\n",
    "#Nhập vào một số nguyên dương x, bạn hãy kiểm tra xem x là số chẵn hay lẻ. Nếu x là số chẵn, in ra\n",
    "#\"Even\". Nếu x là số lẻ, in ra \"Odd\". \n",
    "\n",
    "x=int(input())\n",
    "if x%2==0:\n",
    "    print(\"Even\")\n",
    "else:\n",
    "    print(\"Odd\")"
   ]
  },
  {
   "cell_type": "markdown",
   "id": "e162af6e",
   "metadata": {},
   "source": [
    "#W3/7"
   ]
  },
  {
   "cell_type": "code",
   "execution_count": 18,
   "id": "93252841",
   "metadata": {},
   "outputs": [
    {
     "name": "stdout",
     "output_type": "stream",
     "text": [
      "Yes\n"
     ]
    }
   ],
   "source": [
    "#[Check negative numbers]\n",
    "#Nhập vào hai số nguyên a, b. Nếu cả hai số a, b đều âm thì in ra \"Yes\", ngược lại in ra \"No\".\n",
    "\n",
    "a,b=map(int,input().split())\n",
    "if a<0 and b<0:\n",
    "    print(\"Yes\")\n",
    "else:\n",
    "    print(\"No\")"
   ]
  },
  {
   "cell_type": "markdown",
   "id": "dc5c9b03",
   "metadata": {},
   "source": [
    "#W3/8"
   ]
  },
  {
   "cell_type": "code",
   "execution_count": 24,
   "id": "43c84ea0",
   "metadata": {},
   "outputs": [
    {
     "name": "stdout",
     "output_type": "stream",
     "text": [
      "True\n"
     ]
    }
   ],
   "source": [
    "#[Longer string]\n",
    "#Nhập vào hai chuỗi a, b gồm các chữ cái thường. In ra \"True\" nếu chuỗi a dài hơn chuỗi b. Ngược\n",
    "#lại in ra \"False\"\n",
    "\n",
    "a,b=input().split()\n",
    "print(len(a)>len(b))"
   ]
  },
  {
   "cell_type": "markdown",
   "id": "20e9cff2",
   "metadata": {},
   "source": [
    "#W3/9"
   ]
  },
  {
   "cell_type": "code",
   "execution_count": null,
   "id": "21314392",
   "metadata": {},
   "outputs": [
    {
     "name": "stdout",
     "output_type": "stream",
     "text": [
      "Yes\n"
     ]
    }
   ],
   "source": [
    "#[Triangle]\n",
    "#Nhập vào 3 số nguyên dương a, b, c. Kiểm tra xem a, b, c có cấu thành độ dài cạnh của 1 tam giác\n",
    "#được không. Nếu a, b, c cấu tạo thành được một tam giác, in ra \"Yes\". Ngược lại in ra \"No\".\n",
    "\n",
    "a,b,c=map(float,input().split())\n",
    "if a+b>c and a+c>b and b+c>a:\n",
    "    print(\"Yes\")\n",
    "else:\n",
    "    print(\"No\")"
   ]
  },
  {
   "cell_type": "markdown",
   "id": "f1b79a05",
   "metadata": {},
   "source": [
    "#W3/10"
   ]
  },
  {
   "cell_type": "code",
   "execution_count": 30,
   "id": "8c8874c1",
   "metadata": {},
   "outputs": [
    {
     "name": "stdout",
     "output_type": "stream",
     "text": [
      "4\n"
     ]
    }
   ],
   "source": [
    "#[Largest number]\n",
    "#Nhập vào 4 số nguyên. In ra màn hình số nguyên lớn nhất trong 4 số.          \n",
    "a=int(input())\n",
    "b=int(input())\n",
    "c=int(input())\n",
    "d=int(input())\n",
    "print(max(a,b,c,d))   "
   ]
  },
  {
   "cell_type": "markdown",
   "id": "be8d2225",
   "metadata": {},
   "source": [
    "#W3/11"
   ]
  },
  {
   "cell_type": "code",
   "execution_count": 36,
   "id": "4287865b",
   "metadata": {},
   "outputs": [
    {
     "name": "stdout",
     "output_type": "stream",
     "text": [
      "Không phải tam giác\n"
     ]
    }
   ],
   "source": [
    "#[Phân loại tam giác]\n",
    "#Nhập vào 3 số nguyên dương a,b,c là độ dài 3 cạnh của một tam giác. Kiểm tra 3 số đã nhập có tạo thành\n",
    "#một tam giác hợp lệ hay không. Nếu không in ra \"Không phải tam giác\". Nếu có, phân loại tam giác đó là\n",
    "#\"Tam giác đều\", \"Tam giác cân\", hay \"Tam giác thường\".\n",
    "\n",
    "a, b, c = map(float, input().split())\n",
    "\n",
    "if a + b > c and a + c > b and b + c > a:\n",
    "    if a == b == c:\n",
    "        print(\"Tam giác đều\")\n",
    "    elif a == b or a == c or b == c:\n",
    "        print(\"Tam giác cân\")\n",
    "    else:\n",
    "        print(\"Tam giác thường\")\n",
    "else:\n",
    "    print(\"Không phải tam giác\")\n"
   ]
  },
  {
   "cell_type": "markdown",
   "id": "a96a2f12",
   "metadata": {},
   "source": [
    "#W3/12"
   ]
  },
  {
   "cell_type": "code",
   "execution_count": 37,
   "id": "0d365be7",
   "metadata": {},
   "outputs": [
    {
     "name": "stdout",
     "output_type": "stream",
     "text": [
      "Yes\n"
     ]
    }
   ],
   "source": [
    "#[Kiểm tra năm nhuận]\n",
    "#Nhập vào một số nguyên dương n là số năm, kiểm tra xem năm đó có phải là năm nhuận hay không. Năm\n",
    "#nhuận là năm chia hết cho 4 nhưng không chia hết cho 100, hoặc chia hết cho 400. Nếu là năm nhuận in ra\n",
    "#\"Yes\", nếu không in ra \"No\"\n",
    "\n",
    "a=int(input())\n",
    "if (a % 400 == 0) or (a % 4 == 0 and a % 100 != 0):\n",
    "    print(\"Yes\")\n",
    "else:\n",
    "    print(\"No\")"
   ]
  },
  {
   "cell_type": "markdown",
   "id": "748b06da",
   "metadata": {},
   "source": [
    "#W3/13"
   ]
  },
  {
   "cell_type": "code",
   "execution_count": 41,
   "id": "658faa6b",
   "metadata": {},
   "outputs": [
    {
     "name": "stdout",
     "output_type": "stream",
     "text": [
      "175000\n"
     ]
    }
   ],
   "source": [
    "#[Tính tiền điện]\n",
    "#Nhập vào số kWh điện tiêu thụ. Tính tiền điện theo các bậc sau:\n",
    "#- 0-50 kWh: 1500đ/kWh\n",
    "#- 51-100 kWh: 2000đ/kWh\n",
    "#- 100 kWh: 3000đ/kWh\n",
    "\n",
    "cs=int(input())\n",
    "moc=[(50,1500),(50,2000),(float('inf'),3000)]\n",
    "chiphi=0\n",
    "for conlai,gia in moc:\n",
    "    if cs>conlai:\n",
    "        chiphi+= conlai*gia\n",
    "        cs-=conlai\n",
    "    else:\n",
    "        chiphi+=cs*gia\n",
    "        break\n",
    "print(chiphi)"
   ]
  },
  {
   "cell_type": "markdown",
   "id": "30a1f907",
   "metadata": {},
   "source": [
    "#W3/14"
   ]
  },
  {
   "cell_type": "code",
   "execution_count": 45,
   "id": "0e6c4610",
   "metadata": {},
   "outputs": [
    {
     "name": "stdout",
     "output_type": "stream",
     "text": [
      "-0.51\n"
     ]
    }
   ],
   "source": [
    "#[Giải phương trình bậc nhất]\n",
    "#Nhập vào hai số thực a và b của phương trình ax + b = 0. Tìm và in ra nghiệm của phương trình, kết quả\n",
    "#làm tròn đến số thập phân thứ 2. In ra \"Vô nghiệm\" hoặc \"Vô số nghiệm\" trong trường hợp tương ứng.\n",
    "\n",
    "a,b=map(float,input().split())\n",
    "if a==0 and b==0 :\n",
    "    print(\"Vô số nghiệm\")\n",
    "elif a==0 and b!=0:\n",
    "    print(\"Vô nghiệm\")\n",
    "else:\n",
    "    x=-b/a\n",
    "    print(round(x,2))"
   ]
  },
  {
   "cell_type": "markdown",
   "id": "bb6af20f",
   "metadata": {},
   "source": [
    "#W3/15"
   ]
  },
  {
   "cell_type": "code",
   "execution_count": 47,
   "id": "e4fcf225",
   "metadata": {},
   "outputs": [
    {
     "name": "stdout",
     "output_type": "stream",
     "text": [
      "Giỏi\n"
     ]
    }
   ],
   "source": [
    "#[Xếp loại học lực]\n",
    "#Nhập vào điểm trung bình của một học sinh và in ra học lực của học sinh đó. Xếp loại học lực theo quy tắc:\n",
    "#- >= 8.0: Giỏi\n",
    "#- >= 6.5: Khá\n",
    "#- >= 5.0: Trung bình\n",
    "#- < 5.0: Yếu\n",
    "\n",
    "n = float(input())\n",
    "if n >= 8.0:\n",
    "    print(\"Giỏi\")\n",
    "elif n >= 6.5 and n<8:\n",
    "    print(\"Khá\")\n",
    "elif n>=5 and n<6.5:\n",
    "    print(\"Trung bình\")\n",
    "else:\n",
    "    print(\"Yếu\")"
   ]
  },
  {
   "cell_type": "markdown",
   "id": "1ccedcc9",
   "metadata": {},
   "source": [
    "#W3/16"
   ]
  },
  {
   "cell_type": "code",
   "execution_count": 76,
   "id": "8ea4e0b9",
   "metadata": {},
   "outputs": [
    {
     "name": "stdout",
     "output_type": "stream",
     "text": [
      "-2 -3 -2\n"
     ]
    }
   ],
   "source": [
    "#[Rounding]\n",
    "#Nhập vào một số thực: in ra kết quả làm tròn lên ,tròn xuống, làm tròn tới số nguyên gần nhất (không được\n",
    "#sử dụng hàm sẵn có của pyton). Các kết quả cách nhau một dấu cách\n",
    "\n",
    "a=float(input())\n",
    "if a>0:\n",
    "    b=int(a)\n",
    "    c=b+1\n",
    "else:\n",
    "    if a==int(a):\n",
    "        b=a\n",
    "        c=a\n",
    "    else:\n",
    "        b=int(a)-1\n",
    "        c=b+1\n",
    "          \n",
    "if abs(a-b) >=0.5:\n",
    "    d=c\n",
    "elif abs(a-b) <0.5:\n",
    "    d=b\n",
    "print(c,b,d)\n"
   ]
  }
 ],
 "metadata": {
  "kernelspec": {
   "display_name": ".venv",
   "language": "python",
   "name": "python3"
  },
  "language_info": {
   "codemirror_mode": {
    "name": "ipython",
    "version": 3
   },
   "file_extension": ".py",
   "mimetype": "text/x-python",
   "name": "python",
   "nbconvert_exporter": "python",
   "pygments_lexer": "ipython3",
   "version": "3.13.7"
  }
 },
 "nbformat": 4,
 "nbformat_minor": 5
}
