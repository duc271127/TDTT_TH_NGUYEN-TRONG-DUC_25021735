{
 "cells": [
  {
   "cell_type": "markdown",
   "id": "05d38198",
   "metadata": {},
   "source": [
    "W2/1"
   ]
  },
  {
   "cell_type": "code",
   "execution_count": 1,
   "id": "52271a9d",
   "metadata": {},
   "outputs": [
    {
     "name": "stdout",
     "output_type": "stream",
     "text": [
      "8\n"
     ]
    }
   ],
   "source": [
    "n=int(input())\n",
    "print(n*2)"
   ]
  },
  {
   "cell_type": "markdown",
   "id": "88d654af",
   "metadata": {},
   "source": [
    "W2/2"
   ]
  },
  {
   "cell_type": "code",
   "execution_count": 4,
   "id": "6e5b9c38",
   "metadata": {},
   "outputs": [
    {
     "name": "stdout",
     "output_type": "stream",
     "text": [
      "4.86\n"
     ]
    }
   ],
   "source": [
    "a,b=map(float,input().split())\n",
    "S_hcn=a*b\n",
    "S_ht=3.14 *(min(a,b)/2)**2\n",
    "print(round(S_hcn - S_ht,2))"
   ]
  },
  {
   "cell_type": "markdown",
   "id": "492b321d",
   "metadata": {},
   "source": [
    "W2/3"
   ]
  },
  {
   "cell_type": "code",
   "execution_count": 7,
   "id": "ac1a184b",
   "metadata": {},
   "outputs": [
    {
     "name": "stdout",
     "output_type": "stream",
     "text": [
      "A\n"
     ]
    }
   ],
   "source": [
    "c=input()\n",
    "if c== c.upper() :\n",
    "    print(c.lower())\n",
    "else :\n",
    "    print (c.upper())\n"
   ]
  },
  {
   "cell_type": "markdown",
   "id": "1cfca0a4",
   "metadata": {},
   "source": [
    "W2/4"
   ]
  },
  {
   "cell_type": "code",
   "execution_count": 10,
   "id": "77767800",
   "metadata": {},
   "outputs": [
    {
     "name": "stdout",
     "output_type": "stream",
     "text": [
      "{a} là kí tự alphabet\n"
     ]
    }
   ],
   "source": [
    "c=input()\n",
    "if ord(c) <= ord ('Z') and ord(c) >= ord('A') or ord(c) <= ord('z') and ord(c) >= ord('a'):\n",
    "    print(f\"{{{c}}} là kí tự alphabet\")\n",
    "else:\n",
    "    print(f\"{{{c}}} không là kí tự alphabet\")"
   ]
  },
  {
   "cell_type": "markdown",
   "id": "4f73a9ec",
   "metadata": {},
   "source": [
    "W2/5"
   ]
  },
  {
   "cell_type": "code",
   "execution_count": 15,
   "id": "0f60b8f7",
   "metadata": {},
   "outputs": [
    {
     "name": "stdout",
     "output_type": "stream",
     "text": [
      "b\n"
     ]
    }
   ],
   "source": [
    "c=input()\n",
    "if c=='A':\n",
    "    print(\"Vui lòng nhập chữ cái khác\")\n",
    "else:\n",
    "    print (chr(ord(c)-1).lower()) \n"
   ]
  },
  {
   "cell_type": "markdown",
   "id": "5922e1a0",
   "metadata": {},
   "source": [
    "W2/6"
   ]
  },
  {
   "cell_type": "code",
   "execution_count": 16,
   "id": "8fcde5d4",
   "metadata": {},
   "outputs": [
    {
     "name": "stdout",
     "output_type": "stream",
     "text": [
      "6.0\n"
     ]
    }
   ],
   "source": [
    "from math import sqrt\n",
    "a,b,c=map(int,input().split())\n",
    "if a+b>c or a+c>b or b+c>a:\n",
    "    p = (a + b + c) / 2\n",
    "    s = sqrt(p * (p - a) * (p - b) * (p - c))\n",
    "    print(round(s, 1))\n",
    "else:\n",
    "    print(\"Khong phai 3 canh cua tam giac\")"
   ]
  },
  {
   "cell_type": "markdown",
   "id": "9292ad12",
   "metadata": {},
   "source": [
    "W2/7"
   ]
  },
  {
   "cell_type": "code",
   "execution_count": 18,
   "id": "e40bdd2d",
   "metadata": {},
   "outputs": [
    {
     "name": "stdout",
     "output_type": "stream",
     "text": [
      "n n\n"
     ]
    }
   ],
   "source": [
    "a=input()\n",
    "if len(a)>=20:\n",
    "    print(a[4],a[8])\n",
    "else:\n",
    "    print(\"Số kí tự phải >= 20\")\n",
    "\n"
   ]
  },
  {
   "cell_type": "markdown",
   "id": "5a1787ce",
   "metadata": {},
   "source": [
    "W2/8"
   ]
  },
  {
   "cell_type": "code",
   "execution_count": 6,
   "id": "8bdb6c2f",
   "metadata": {},
   "outputs": [
    {
     "name": "stdout",
     "output_type": "stream",
     "text": [
      "\n",
      "Chủ hộ: duck\n",
      "Tiền điện (đã gồm VAT 8%): 107136 đồng\n"
     ]
    }
   ],
   "source": [
    "name=input(\"Ten chu ho :\")\n",
    "cs1=int(input(\"Chi so thang truoc :\"))\n",
    "cs2=int(input(\"Chi so thang nay :\"))\n",
    "cs= cs2-cs1\n",
    "if cs<0 :\n",
    "    print(\"Không hợp lệ\")\n",
    "else:\n",
    "    moc=[(50, 1984), (50, 2050), (100, 2380), (100, 2998), (100, 3350), (float('inf'), 3460)]\n",
    "    chiphi=0\n",
    "    for con,gia in moc:\n",
    "        if cs>con:\n",
    "            chiphi+= con*gia\n",
    "            cs-=con\n",
    "        else:\n",
    "            chiphi+= cs*gia \n",
    "            break\n",
    "\n",
    "    tong = round(chiphi * 1.08)\n",
    "    print(f\"\\nChủ hộ: {name}\")\n",
    "    print(f\"Tiền điện (đã gồm VAT 8%): {tong} đồng\")"
   ]
  },
  {
   "cell_type": "markdown",
   "id": "6e50b3f8",
   "metadata": {},
   "source": [
    "W2PLUS/1"
   ]
  },
  {
   "cell_type": "code",
   "execution_count": 7,
   "id": "e2d527a3",
   "metadata": {},
   "outputs": [
    {
     "name": "stdout",
     "output_type": "stream",
     "text": [
      "3 là số lẻ\n"
     ]
    }
   ],
   "source": [
    "a=int(input())\n",
    "if a%2==0:\n",
    "    print(f\"{a} là số chẵn\")\n",
    "else:\n",
    "    print(f\"{a} là số lẻ\")"
   ]
  },
  {
   "cell_type": "markdown",
   "id": "9a6440ea",
   "metadata": {},
   "source": [
    "W2PLUS/2"
   ]
  },
  {
   "cell_type": "code",
   "execution_count": 9,
   "id": "7ff9de72",
   "metadata": {},
   "outputs": [
    {
     "name": "stdout",
     "output_type": "stream",
     "text": [
      "True\n"
     ]
    }
   ],
   "source": [
    "a=int(input())\n",
    "tc=a%10\n",
    "if tc==5:\n",
    "    print(\"True\")\n",
    "else:\n",
    "    print(\"False\")"
   ]
  },
  {
   "cell_type": "markdown",
   "id": "98e2d039",
   "metadata": {},
   "source": [
    "W2PLUS/3"
   ]
  },
  {
   "cell_type": "code",
   "execution_count": 11,
   "id": "d4e1607e",
   "metadata": {},
   "outputs": [
    {
     "name": "stdout",
     "output_type": "stream",
     "text": [
      "True\n"
     ]
    }
   ],
   "source": [
    "a=int(input())\n",
    "if a%3==0 and a%5==0:\n",
    "    print(\"True\") \n",
    "else:\n",
    "    print (\"False\")"
   ]
  },
  {
   "cell_type": "markdown",
   "id": "d796e1ec",
   "metadata": {},
   "source": [
    "W2PLUS/4"
   ]
  },
  {
   "cell_type": "code",
   "execution_count": 13,
   "id": "a3b966a4",
   "metadata": {},
   "outputs": [
    {
     "name": "stdout",
     "output_type": "stream",
     "text": [
      "Đã đủ tuổi để bầu cử\n"
     ]
    }
   ],
   "source": [
    "a=int(input())\n",
    "if a>=18:\n",
    "    print(\"Đã đủ tuổi để bầu cử\") \n",
    "else:\n",
    "    print(\"Chưa đủ tuổi để bầu cử\")"
   ]
  },
  {
   "cell_type": "markdown",
   "id": "08af02c6",
   "metadata": {},
   "source": [
    "W2PLUS/5"
   ]
  },
  {
   "cell_type": "code",
   "execution_count": 14,
   "id": "b5c81a4a",
   "metadata": {},
   "outputs": [
    {
     "name": "stdout",
     "output_type": "stream",
     "text": [
      "4.0\n"
     ]
    }
   ],
   "source": [
    "a,b=map(float,input().split())\n",
    "if a==b:\n",
    "    print(\"2 số bằng nhau\")\n",
    "else:\n",
    "    print(max(a,b))"
   ]
  },
  {
   "cell_type": "markdown",
   "id": "18b30377",
   "metadata": {},
   "source": [
    "W2PLUS/6"
   ]
  },
  {
   "cell_type": "code",
   "execution_count": 16,
   "id": "88ae87f4",
   "metadata": {},
   "outputs": [
    {
     "name": "stdout",
     "output_type": "stream",
     "text": [
      "a là chữ cái\n"
     ]
    }
   ],
   "source": [
    "a=input()\n",
    "if ord(a)<=ord('Z') and ord(a) >= ord('A') or ord(a)<= ord('z') and ord(a)>= ord('a'):\n",
    "    print(f\"{a} là chữ cái\")\n",
    "else:\n",
    "    print(f\"{a} là chữ số\")"
   ]
  },
  {
   "cell_type": "markdown",
   "id": "e195fd4c",
   "metadata": {},
   "source": [
    "W2PLUS/7"
   ]
  },
  {
   "cell_type": "code",
   "execution_count": 18,
   "id": "f69b9272",
   "metadata": {},
   "outputs": [
    {
     "name": "stdout",
     "output_type": "stream",
     "text": [
      "Giỏi\n"
     ]
    }
   ],
   "source": [
    "n = float(input())\n",
    "if n >= 8.0:\n",
    "    print(\"Giỏi\")\n",
    "elif n >= 6.5 and n<8:\n",
    "    print(\"Khá\")\n",
    "elif n>=5 and n<6.5:\n",
    "    print(\"Trung bình\")\n",
    "else:\n",
    "    print(\"Yếu\")"
   ]
  },
  {
   "cell_type": "markdown",
   "id": "88f18071",
   "metadata": {},
   "source": [
    "W2PLUS/8"
   ]
  },
  {
   "cell_type": "code",
   "execution_count": 25,
   "id": "0e50c263",
   "metadata": {},
   "outputs": [
    {
     "name": "stdout",
     "output_type": "stream",
     "text": [
      "2400 là năm nhuận\n"
     ]
    }
   ],
   "source": [
    "a=int(input())\n",
    "if (a % 400 == 0) or (a % 4 == 0 and a % 100 != 0):\n",
    "    print(f\"{a} là năm nhuận\")\n",
    "else:\n",
    "    print(f\"{a} không phải là năm nhuận\")"
   ]
  },
  {
   "cell_type": "markdown",
   "id": "3c58d1bf",
   "metadata": {},
   "source": [
    "W2PLUS/9"
   ]
  },
  {
   "cell_type": "code",
   "execution_count": 26,
   "id": "40938545",
   "metadata": {},
   "outputs": [
    {
     "name": "stdout",
     "output_type": "stream",
     "text": [
      "Năm\n"
     ]
    }
   ],
   "source": [
    "x = int(input())\n",
    "match x:\n",
    "    case 0:\n",
    "        print(\"Không\")\n",
    "    case 1:\n",
    "        print(\"Một\")\n",
    "    case 2:\n",
    "        print(\"Hai\")\n",
    "    case 3:\n",
    "        print(\"Ba\")\n",
    "    case 4:\n",
    "        print(\"Bốn\")\n",
    "    case 5:\n",
    "        print(\"Năm\")\n",
    "    case 6:\n",
    "        print(\"Sáu\")\n",
    "    case 7:\n",
    "        print(\"Bảy\")\n",
    "    case 8:\n",
    "        print(\"Tám\")\n",
    "    case 9:\n",
    "        print(\"Chín\")"
   ]
  },
  {
   "cell_type": "markdown",
   "id": "e15e85ea",
   "metadata": {},
   "source": [
    "w2PLUS/10"
   ]
  },
  {
   "cell_type": "code",
   "execution_count": 27,
   "id": "1e422cb2",
   "metadata": {},
   "outputs": [
    {
     "name": "stdout",
     "output_type": "stream",
     "text": [
      "Qua môn\n"
     ]
    }
   ],
   "source": [
    "a=int(input())\n",
    "if a>=4:\n",
    "    print(\"Qua môn\")\n",
    "else:\n",
    "    print(\"Học lại\")"
   ]
  },
  {
   "cell_type": "markdown",
   "id": "0bb6be05",
   "metadata": {},
   "source": [
    "W2PLUS/11"
   ]
  },
  {
   "cell_type": "code",
   "execution_count": 29,
   "id": "8b220c93",
   "metadata": {},
   "outputs": [
    {
     "name": "stdout",
     "output_type": "stream",
     "text": [
      "Tuổi của bạn là: 18\n",
      "Bạn đã đủ 18 tuổi.\n"
     ]
    }
   ],
   "source": [
    "nam_sinh = int(input(\"Nhập năm sinh: \"))\n",
    "tuoi = 2025 - nam_sinh\n",
    "\n",
    "print(f\"Tuổi của bạn là: {tuoi}\")\n",
    "\n",
    "if tuoi >= 18:\n",
    "    print(\"Bạn đã đủ 18 tuổi.\")\n",
    "else:\n",
    "    print(\"Bạn chưa đủ 18 tuổi.\")\n"
   ]
  }
 ],
 "metadata": {
  "kernelspec": {
   "display_name": ".venv",
   "language": "python",
   "name": "python3"
  },
  "language_info": {
   "codemirror_mode": {
    "name": "ipython",
    "version": 3
   },
   "file_extension": ".py",
   "mimetype": "text/x-python",
   "name": "python",
   "nbconvert_exporter": "python",
   "pygments_lexer": "ipython3",
   "version": "3.13.7"
  }
 },
 "nbformat": 4,
 "nbformat_minor": 5
}
