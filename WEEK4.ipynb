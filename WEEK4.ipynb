{
 "cells": [
  {
   "cell_type": "markdown",
   "id": "9ba36ac2",
   "metadata": {},
   "source": [
    "#W4A1"
   ]
  },
  {
   "cell_type": "code",
   "execution_count": null,
   "id": "c4458941",
   "metadata": {},
   "outputs": [
    {
     "name": "stdout",
     "output_type": "stream",
     "text": [
      "6\n"
     ]
    }
   ],
   "source": [
    "n=int(input())\n",
    "sum=0\n",
    "if n<=1000:\n",
    "    for i in range(n+1):\n",
    "         sum+=i\n",
    "    print(sum)\n",
    "else:\n",
    "    print(\"Vui lòng nhập số n thoả mãn\")"
   ]
  },
  {
   "cell_type": "markdown",
   "id": "e375f902",
   "metadata": {},
   "source": [
    "#W4A2"
   ]
  },
  {
   "cell_type": "code",
   "execution_count": 9,
   "id": "f70fd2c4",
   "metadata": {},
   "outputs": [
    {
     "name": "stdout",
     "output_type": "stream",
     "text": [
      "True\n"
     ]
    }
   ],
   "source": [
    "import math\n",
    "\n",
    "def nt(a):\n",
    "    if a < 2:\n",
    "        return False\n",
    "    for i in range(2, int(math.sqrt(a)) + 1):\n",
    "        if a % i == 0:\n",
    "            return False\n",
    "    return True\n",
    "\n",
    "a = int(input())\n",
    "if a < 0:\n",
    "    print(\"Vui lòng nhập số nguyên dương\")\n",
    "else:\n",
    "    if nt(a):\n",
    "        print(\"True\")\n",
    "    else:\n",
    "        print(\"False\")\n"
   ]
  },
  {
   "cell_type": "markdown",
   "id": "5dc8f5e6",
   "metadata": {},
   "source": [
    "#W4A3"
   ]
  },
  {
   "cell_type": "code",
   "execution_count": 14,
   "id": "526d3fb4",
   "metadata": {},
   "outputs": [
    {
     "name": "stdout",
     "output_type": "stream",
     "text": [
      "24\n"
     ]
    }
   ],
   "source": [
    "def gt(n):\n",
    "    if n>0:\n",
    "        return n*gt(n-1)\n",
    "    else:\n",
    "        return 1\n",
    "\n",
    "n=int(input())\n",
    "print(gt(n))"
   ]
  },
  {
   "cell_type": "markdown",
   "id": "82d8a2e4",
   "metadata": {},
   "source": [
    "#W4A4"
   ]
  },
  {
   "cell_type": "code",
   "execution_count": null,
   "id": "689d8792",
   "metadata": {},
   "outputs": [
    {
     "name": "stdout",
     "output_type": "stream",
     "text": [
      "4\n"
     ]
    }
   ],
   "source": [
    "a=int(input())\n",
    "count=0\n",
    "a=abs(a)\n",
    "if a==0:\n",
    "    print(1)\n",
    "else:\n",
    "    while a>0:\n",
    "        count+=1\n",
    "        a//=10\n",
    "    print(count)"
   ]
  },
  {
   "cell_type": "markdown",
   "id": "b9227509",
   "metadata": {},
   "source": [
    "#W4A5"
   ]
  },
  {
   "cell_type": "code",
   "execution_count": 48,
   "id": "64aef7e0",
   "metadata": {},
   "outputs": [
    {
     "name": "stdout",
     "output_type": "stream",
     "text": [
      "I've found the meaning of life!\n"
     ]
    }
   ],
   "source": [
    "n=int(input())\n",
    "a=[0] *n\n",
    "count=0\n",
    "for i in range(n):\n",
    "    a[i]=int(input())\n",
    "    if a[i]==42:\n",
    "        count+=1\n",
    "if count>0:\n",
    "    print(\"I've found the meaning of life!\")\n",
    "else:\n",
    "    print(\"It's a joke!\")"
   ]
  },
  {
   "cell_type": "markdown",
   "id": "a1d371cc",
   "metadata": {},
   "source": [
    "\n",
    "#W4A6"
   ]
  },
  {
   "cell_type": "code",
   "execution_count": 60,
   "id": "f644bda2",
   "metadata": {},
   "outputs": [
    {
     "name": "stdout",
     "output_type": "stream",
     "text": [
      "17\n"
     ]
    }
   ],
   "source": [
    "import math\n",
    "\n",
    "def nt(a):\n",
    "    if a<2:\n",
    "        return False\n",
    "    if a==2:\n",
    "        return True\n",
    "    if a>2:\n",
    "        for i in range(2,int(math.sqrt(a))+1):\n",
    "            if a%i==0:\n",
    "                return False\n",
    "        return True\n",
    "\n",
    "a,b=map(int,input().split())\n",
    "sum=0\n",
    "for i in range(a,b+1):\n",
    "    if nt(i):\n",
    "        sum+=i\n",
    "print(sum)"
   ]
  },
  {
   "cell_type": "markdown",
   "id": "3d78c896",
   "metadata": {},
   "source": [
    "\n",
    "#W4A7"
   ]
  },
  {
   "cell_type": "code",
   "execution_count": 77,
   "id": "ec7e1544",
   "metadata": {},
   "outputs": [
    {
     "name": "stdout",
     "output_type": "stream",
     "text": [
      "99991\n"
     ]
    }
   ],
   "source": [
    "import math\n",
    "\n",
    "def nt(n):\n",
    "    if n<2 :\n",
    "        return False\n",
    "    if n==2 :\n",
    "        return True\n",
    "    if n>2:\n",
    "        for i in range(2,int(math.sqrt(n))+1):\n",
    "            if n%i==0:\n",
    "                return False\n",
    "        return True\n",
    "\n",
    "a=int(input())\n",
    "max=0\n",
    "for i in range(a+1):\n",
    "    if nt(i) and a%i==0:\n",
    "        max=i\n",
    "print(max)\n"
   ]
  },
  {
   "cell_type": "markdown",
   "id": "96f417d1",
   "metadata": {},
   "source": [
    "#W4A8"
   ]
  },
  {
   "cell_type": "code",
   "execution_count": 85,
   "id": "d9fb23e2",
   "metadata": {},
   "outputs": [
    {
     "name": "stdout",
     "output_type": "stream",
     "text": [
      "24 8813200023188\n"
     ]
    }
   ],
   "source": [
    "def sdx(a):\n",
    "   b=0\n",
    "   while a>0:\n",
    "      b=b*10+ a%10\n",
    "      a//=10\n",
    "   return b\n",
    "\n",
    "n=int(input())\n",
    "count=0\n",
    "while n!=sdx(n):\n",
    "   n+=sdx(n)\n",
    "   count+=1\n",
    "   if n==sdx(n):\n",
    "      break\n",
    "print(count,n)\n",
    "\n"
   ]
  },
  {
   "cell_type": "markdown",
   "id": "68c8ee20",
   "metadata": {},
   "source": [
    "#W4A9"
   ]
  },
  {
   "cell_type": "code",
   "execution_count": 94,
   "id": "e7d31811",
   "metadata": {},
   "outputs": [
    {
     "name": "stdout",
     "output_type": "stream",
     "text": [
      "1 4 9 "
     ]
    }
   ],
   "source": [
    "import math\n",
    "\n",
    "def scp(n):\n",
    "    if math.sqrt(n)**2== n:\n",
    "        return True\n",
    "    return False\n",
    "\n",
    "n=int(input())\n",
    "count=0\n",
    "for i in range(1,n+1):\n",
    "    if scp(i):\n",
    "        print(i,\"\",end='')\n",
    "        count+=1\n",
    "if count==0:\n",
    "    print(\"No number\")\n",
    "        "
   ]
  },
  {
   "cell_type": "markdown",
   "id": "535caa79",
   "metadata": {},
   "source": [
    "#W4A10"
   ]
  },
  {
   "cell_type": "code",
   "execution_count": 109,
   "id": "278c640e",
   "metadata": {},
   "outputs": [
    {
     "name": "stdout",
     "output_type": "stream",
     "text": [
      "171 125\n"
     ]
    }
   ],
   "source": [
    "def collaz(n):\n",
    "    count=1\n",
    "    if n==1 :\n",
    "        return 1\n",
    "    while n!=1:\n",
    "        if n%2==0:\n",
    "            n//=2\n",
    "            count+=1\n",
    "        else:\n",
    "            n=3*n+1\n",
    "            count+=1\n",
    "    return count\n",
    "    \n",
    "n=int(input())\n",
    "max=0\n",
    "a=0\n",
    "for i in range(1,n+1):\n",
    "    if collaz(i)>max:\n",
    "        max=collaz(i)\n",
    "        a=i\n",
    "print(a,max)\n",
    "          "
   ]
  },
  {
   "cell_type": "markdown",
   "id": "592a827b",
   "metadata": {},
   "source": [
    "#W4A11"
   ]
  },
  {
   "cell_type": "code",
   "execution_count": 118,
   "id": "8d0e31e0",
   "metadata": {},
   "outputs": [
    {
     "name": "stdout",
     "output_type": "stream",
     "text": [
      "12\n"
     ]
    }
   ],
   "source": [
    "n=int(input())\n",
    "count=0\n",
    "if n<10**6:\n",
    "    for i in range(1,n+1):\n",
    "        if n%i==0 and i%2==0:\n",
    "            count+=1\n",
    "    print(count)\n",
    "else:\n",
    "    print(\"Vui lòng nhập số n<10^6\")"
   ]
  },
  {
   "cell_type": "markdown",
   "id": "b74c9780",
   "metadata": {},
   "source": [
    "#W4A12"
   ]
  },
  {
   "cell_type": "code",
   "execution_count": 124,
   "id": "72fbaa1f",
   "metadata": {},
   "outputs": [
    {
     "name": "stdout",
     "output_type": "stream",
     "text": [
      "10902\n"
     ]
    }
   ],
   "source": [
    "def tt(n,N):\n",
    "    return n*(1+0.7/100)**N\n",
    "\n",
    "X,N=map(int,input().split())\n",
    "print(int(tt(X,N)))"
   ]
  },
  {
   "cell_type": "markdown",
   "id": "f21b9229",
   "metadata": {},
   "source": [
    "#W4A13"
   ]
  },
  {
   "cell_type": "code",
   "execution_count": 127,
   "id": "c85aaaab",
   "metadata": {},
   "outputs": [
    {
     "name": "stdout",
     "output_type": "stream",
     "text": [
      "true\n"
     ]
    }
   ],
   "source": [
    "a,b=map(int,input().split())\n",
    "tu_a=0\n",
    "tu_b=0\n",
    "for i in range(1,a+1):\n",
    "    if a%i==0:\n",
    "        tu_a+=i\n",
    "for i in range(1,b+1):\n",
    "    if b%i==0:\n",
    "        tu_b+=i\n",
    "if tu_a==tu_b:\n",
    "    print(\"true\")    \n",
    "else:\n",
    "    print(\"false\")"
   ]
  },
  {
   "cell_type": "markdown",
   "id": "188cd093",
   "metadata": {},
   "source": [
    "#W4A14"
   ]
  },
  {
   "cell_type": "code",
   "execution_count": 131,
   "id": "50065e76",
   "metadata": {},
   "outputs": [
    {
     "name": "stdout",
     "output_type": "stream",
     "text": [
      "3\n"
     ]
    }
   ],
   "source": [
    "def gcd(a,b):\n",
    "    temp=0\n",
    "    while b!=0:\n",
    "        temp=a%b\n",
    "        a=b\n",
    "        b=temp\n",
    "    return a\n",
    "\n",
    "a,b=map(int,input().split())\n",
    "print(gcd(a,b))"
   ]
  },
  {
   "cell_type": "markdown",
   "id": "88098344",
   "metadata": {},
   "source": [
    "#W4A15"
   ]
  },
  {
   "cell_type": "code",
   "execution_count": 138,
   "id": "5f56b459",
   "metadata": {},
   "outputs": [
    {
     "name": "stdout",
     "output_type": "stream",
     "text": [
      "119 1\n"
     ]
    }
   ],
   "source": [
    "a,b=map(int,input().split())\n",
    "c=(b-2*a)/2\n",
    "g=a-c\n",
    "if c>0 and c==int(c):\n",
    "    print(int(g),int(c))\n",
    "else:\n",
    "    print(\"invalid\")\n"
   ]
  },
  {
   "cell_type": "markdown",
   "id": "e27c3136",
   "metadata": {},
   "source": [
    "#W4A16"
   ]
  },
  {
   "cell_type": "code",
   "execution_count": 141,
   "id": "3a7d4ec7",
   "metadata": {},
   "outputs": [
    {
     "name": "stdout",
     "output_type": "stream",
     "text": [
      "6 12 18 24 30 36 42 48 54 60 66 72 78 84 90 96 "
     ]
    }
   ],
   "source": [
    "def sc(n):\n",
    "    if n%2==0:\n",
    "        return True\n",
    "    return False\n",
    "\n",
    "for i in range(3,101):\n",
    "    if sc(i) and i%3==0:\n",
    "        print(i,\"\",end='')\n"
   ]
  },
  {
   "cell_type": "markdown",
   "id": "b93fcd38",
   "metadata": {},
   "source": [
    "#W4A17"
   ]
  },
  {
   "cell_type": "code",
   "execution_count": 144,
   "id": "aecac115",
   "metadata": {},
   "outputs": [
    {
     "name": "stdout",
     "output_type": "stream",
     "text": [
      "2 x 1 = 2\n",
      "2 x 2 = 4\n",
      "2 x 3 = 6\n",
      "2 x 4 = 8\n",
      "2 x 5 = 10\n",
      "2 x 6 = 12\n",
      "2 x 7 = 14\n",
      "2 x 8 = 16\n",
      "2 x 9 = 18\n",
      "2 x 10 = 20\n"
     ]
    }
   ],
   "source": [
    "a=int(input())\n",
    "for i in range(1,11):\n",
    "    print(2,\"x\",i,\"=\",a*i)\n"
   ]
  },
  {
   "cell_type": "markdown",
   "id": "a718b611",
   "metadata": {},
   "source": [
    "#W4A18"
   ]
  },
  {
   "cell_type": "code",
   "execution_count": 149,
   "id": "d95f7630",
   "metadata": {},
   "outputs": [
    {
     "name": "stdout",
     "output_type": "stream",
     "text": [
      "1 2 5 10 "
     ]
    }
   ],
   "source": [
    "def gcd(a,b):\n",
    "    temp=0\n",
    "    while b!=0:\n",
    "        temp=a%b\n",
    "        a=b\n",
    "        b=temp\n",
    "    return a\n",
    "\n",
    "a,b=map(int,input().split())\n",
    "for i in range(1,gcd(a,b)+1):\n",
    "    if gcd(a,b)%i==0:\n",
    "        print(i,\"\",end='')"
   ]
  },
  {
   "cell_type": "markdown",
   "id": "2049e343",
   "metadata": {},
   "source": [
    "#W4A19"
   ]
  },
  {
   "cell_type": "code",
   "execution_count": 154,
   "id": "d927d7fb",
   "metadata": {},
   "outputs": [
    {
     "name": "stdout",
     "output_type": "stream",
     "text": [
      "2 4 6 8 10 "
     ]
    }
   ],
   "source": [
    "n=int(input())\n",
    "if n<=1000:\n",
    "    for i in range(1,n+1):\n",
    "        if i%2==0:\n",
    "            print(i,\"\",end='')\n",
    "else:\n",
    "    print(\"Nhap n<=1000\")"
   ]
  },
  {
   "cell_type": "markdown",
   "id": "f7e09543",
   "metadata": {},
   "source": [
    "#W4A20"
   ]
  },
  {
   "cell_type": "code",
   "execution_count": 166,
   "id": "2d7ce768",
   "metadata": {},
   "outputs": [
    {
     "name": "stdout",
     "output_type": "stream",
     "text": [
      "True\n"
     ]
    }
   ],
   "source": [
    "n = int(input())\n",
    "a = 0\n",
    "b = 1\n",
    "\n",
    "while b < n:\n",
    "    b *= 2\n",
    "    a += 1\n",
    "\n",
    "if b == n:\n",
    "    print(\"True\")\n",
    "else:\n",
    "    print(\"False\")\n"
   ]
  },
  {
   "cell_type": "markdown",
   "id": "1da6f2a4",
   "metadata": {},
   "source": [
    "#W4A21"
   ]
  },
  {
   "cell_type": "code",
   "execution_count": 167,
   "id": "7a0e22b5",
   "metadata": {},
   "outputs": [
    {
     "name": "stdout",
     "output_type": "stream",
     "text": [
      "10\n"
     ]
    }
   ],
   "source": [
    "n=int(input())\n",
    "sum=0\n",
    "while n>0:\n",
    "    sum+=n%10\n",
    "    n//=10\n",
    "print(sum)\n"
   ]
  },
  {
   "cell_type": "markdown",
   "id": "96e2e0c8",
   "metadata": {},
   "source": [
    "#W4A22"
   ]
  },
  {
   "cell_type": "code",
   "execution_count": 168,
   "id": "6edb6c90",
   "metadata": {},
   "outputs": [
    {
     "name": "stdout",
     "output_type": "stream",
     "text": [
      "n có 2 số chẵn và 2 số lẻ\n"
     ]
    }
   ],
   "source": [
    "n=int(input())\n",
    "s_chan=0\n",
    "s_le=0\n",
    "while n>0:\n",
    "    a=n%10\n",
    "    if a%2==0:\n",
    "        s_chan+=1\n",
    "    else:\n",
    "        s_le+=1\n",
    "    n//=10\n",
    "print(\"n có\",s_chan,\"số chẵn và\",s_le,\"số lẻ\")\n",
    "    "
   ]
  },
  {
   "cell_type": "markdown",
   "id": "a41cb537",
   "metadata": {},
   "source": [
    "#W4A23"
   ]
  },
  {
   "cell_type": "code",
   "execution_count": 174,
   "id": "d3bcc30e",
   "metadata": {},
   "outputs": [
    {
     "name": "stdout",
     "output_type": "stream",
     "text": [
      "5\n"
     ]
    }
   ],
   "source": [
    "def s(k):\n",
    "    if k==1:\n",
    "        return 1\n",
    "    else:\n",
    "        return k+s(k-1)\n",
    "    \n",
    "n=int(input())\n",
    "k=1\n",
    "while s(k)<n:\n",
    "    k+=1\n",
    "print(k-1)"
   ]
  },
  {
   "cell_type": "markdown",
   "id": "8f5658ee",
   "metadata": {},
   "source": [
    "#W4A24"
   ]
  },
  {
   "cell_type": "code",
   "execution_count": 184,
   "id": "e4abbade",
   "metadata": {},
   "outputs": [
    {
     "name": "stdout",
     "output_type": "stream",
     "text": [
      "11\n"
     ]
    }
   ],
   "source": [
    "def s(k):\n",
    "    if k==1:\n",
    "        return 1\n",
    "    else:\n",
    "        return 1/k +s(k-1)\n",
    "\n",
    "A=float(input())\n",
    "n=1\n",
    "while s(n)<A:\n",
    "    n+=1\n",
    "print(n)"
   ]
  },
  {
   "cell_type": "markdown",
   "id": "9c84ae5e",
   "metadata": {},
   "source": [
    "#W4A25"
   ]
  },
  {
   "cell_type": "code",
   "execution_count": 197,
   "id": "2ebb8862",
   "metadata": {},
   "outputs": [
    {
     "name": "stdout",
     "output_type": "stream",
     "text": [
      "8\n"
     ]
    }
   ],
   "source": [
    "n=[]\n",
    "x=int(input())\n",
    "while x!=-1:\n",
    "    n.append(x)\n",
    "    x=int(input())\n",
    "max=n[0]\n",
    "for x in n:\n",
    "    if x>max:\n",
    "        max=x\n",
    "print(max)"
   ]
  },
  {
   "cell_type": "markdown",
   "id": "cf80e278",
   "metadata": {},
   "source": [
    "#W4A26"
   ]
  },
  {
   "cell_type": "code",
   "execution_count": 209,
   "id": "bc5cfb1a",
   "metadata": {},
   "outputs": [
    {
     "name": "stdout",
     "output_type": "stream",
     "text": [
      "5\n"
     ]
    }
   ],
   "source": [
    "def fibo(n):\n",
    "    if n==1:\n",
    "        return 1\n",
    "    if n==0:\n",
    "        return 0\n",
    "    else:\n",
    "        return fibo(n-1)+fibo(n-2)\n",
    "\n",
    "A=int(input())\n",
    "n=0\n",
    "while fibo(n)<A:\n",
    "    n+=1\n",
    "print(fibo(n-1))"
   ]
  },
  {
   "cell_type": "markdown",
   "id": "d03612a5",
   "metadata": {},
   "source": [
    "#W4A27"
   ]
  },
  {
   "cell_type": "code",
   "execution_count": 21,
   "id": "1f0ea1e4",
   "metadata": {},
   "outputs": [
    {
     "name": "stdout",
     "output_type": "stream",
     "text": [
      "Số từ trong chuỗi là: 4\n"
     ]
    }
   ],
   "source": [
    "a = input(\"Nhập chuỗi: \")\n",
    "\n",
    "count = 0\n",
    "in_word = False\n",
    "\n",
    "for ch in a:\n",
    "    if ch != \" \" and not in_word:\n",
    "        count += 1\n",
    "        in_word = True\n",
    "    elif ch == \" \":\n",
    "        in_word = False\n",
    "\n",
    "print(\"Số từ trong chuỗi là:\", count)\n"
   ]
  },
  {
   "cell_type": "markdown",
   "id": "09013970",
   "metadata": {},
   "source": [
    "#W4A28"
   ]
  },
  {
   "cell_type": "code",
   "execution_count": 22,
   "id": "3777d483",
   "metadata": {},
   "outputs": [
    {
     "name": "stdout",
     "output_type": "stream",
     "text": [
      " hi\n"
     ]
    }
   ],
   "source": [
    "a=input()\n",
    "td=\" \" \n",
    "for i in range(len(a)):\n",
    "    if a[i]!=' ':\n",
    "        td+=a[i]\n",
    "    else:\n",
    "        break\n",
    "print(td)"
   ]
  },
  {
   "cell_type": "markdown",
   "id": "fbccb9e4",
   "metadata": {},
   "source": [
    "#W4A29"
   ]
  },
  {
   "cell_type": "code",
   "execution_count": 24,
   "id": "3ad687a1",
   "metadata": {},
   "outputs": [
    {
     "name": "stdout",
     "output_type": "stream",
     "text": [
      "30\n"
     ]
    }
   ],
   "source": [
    "a=input()\n",
    "b=[int(c.strip()) for c in a.split(\",\")]\n",
    "tong = sum(b)\n",
    "print(tong)"
   ]
  },
  {
   "cell_type": "markdown",
   "id": "6161b026",
   "metadata": {},
   "source": [
    "#W4A30"
   ]
  },
  {
   "cell_type": "code",
   "execution_count": 26,
   "id": "de87baea",
   "metadata": {},
   "outputs": [
    {
     "name": "stdout",
     "output_type": "stream",
     "text": [
      "Số ký tự in hoa là : 3\n",
      "Số ký tự in thường là : 3\n",
      "Số ký tự số là : 3\n"
     ]
    }
   ],
   "source": [
    "a=input()\n",
    "hoa=0\n",
    "thuong=0\n",
    "so=0\n",
    "\n",
    "for letter in a:\n",
    "    if letter.isupper():\n",
    "        hoa+=1\n",
    "    if letter.islower():\n",
    "        thuong+=1 \n",
    "    if letter.isdigit():\n",
    "        so+=1\n",
    "print(\"Số ký tự in hoa là :\",hoa)\n",
    "print(\"Số ký tự in thường là :\",thuong)\n",
    "print(\"Số ký tự số là :\",so)\n",
    "\n"
   ]
  },
  {
   "cell_type": "markdown",
   "id": "b299c204",
   "metadata": {},
   "source": [
    "#W4A31"
   ]
  },
  {
   "cell_type": "code",
   "execution_count": 29,
   "id": "0f86936e",
   "metadata": {},
   "outputs": [
    {
     "name": "stdout",
     "output_type": "stream",
     "text": [
      "24\n"
     ]
    }
   ],
   "source": [
    "s=input()\n",
    "sum=0\n",
    "for so in s:\n",
    "    if so.isdigit():\n",
    "        sum+=int(so)\n",
    "print(sum)"
   ]
  },
  {
   "cell_type": "markdown",
   "id": "e480c0b6",
   "metadata": {},
   "source": [
    "#W4A32"
   ]
  },
  {
   "cell_type": "code",
   "execution_count": 36,
   "id": "83a32521",
   "metadata": {},
   "outputs": [
    {
     "name": "stdout",
     "output_type": "stream",
     "text": [
      "Là chuỗi mật khẩu mạnh\n"
     ]
    }
   ],
   "source": [
    "s=input()\n",
    "thuong=False\n",
    "hoa=False\n",
    "so=False\n",
    "ktdb=False\n",
    "\n",
    "for c in s:\n",
    "    if c.islower():\n",
    "        thuong=True\n",
    "    elif c.isupper():\n",
    "        hoa=True\n",
    "    elif c.isdigit():\n",
    "        so=True\n",
    "    else:\n",
    "        ktdb=True\n",
    "\n",
    "if len(s)>6 and thuong and hoa and so and ktdb:\n",
    "    print(\"Là chuỗi mật khẩu mạnh\")\n",
    "else:\n",
    "    print(\"Không phải là chuỗi mật khẩu mạnh\")\n"
   ]
  },
  {
   "cell_type": "markdown",
   "id": "af96e7be",
   "metadata": {},
   "source": [
    "#W4A33"
   ]
  },
  {
   "cell_type": "code",
   "execution_count": 42,
   "id": "51a22ffd",
   "metadata": {},
   "outputs": [
    {
     "name": "stdout",
     "output_type": "stream",
     "text": [
      "Đổi sang chuỗi rồi in ra: 123.456.789\n"
     ]
    }
   ],
   "source": [
    "n = int(input(\"Nhập số: \"))\n",
    "\n",
    "s = f\"{n:,}\"\n",
    "s = s.replace(\",\", \".\")\n",
    "\n",
    "print(\"Đổi sang chuỗi rồi in ra:\", s)\n"
   ]
  },
  {
   "cell_type": "markdown",
   "id": "59f55fa2",
   "metadata": {},
   "source": [
    "#W4A34"
   ]
  },
  {
   "cell_type": "code",
   "execution_count": 43,
   "id": "9ea6ffea",
   "metadata": {},
   "outputs": [
    {
     "name": "stdout",
     "output_type": "stream",
     "text": [
      "Chuỗi sau khi xóa:  cac ban\n"
     ]
    }
   ],
   "source": [
    "a = input(\"Nhập chuỗi a: \")\n",
    "b = input(\"Nhập chuỗi b: \")\n",
    "\n",
    "ket_qua = \"\"\n",
    "i = 0\n",
    "\n",
    "while i < len(a):\n",
    "    if a[i:i+len(b)] == b:\n",
    "        i += len(b) \n",
    "    else:\n",
    "        ket_qua += a[i] \n",
    "        i += 1\n",
    "\n",
    "print(\"Chuỗi sau khi xóa:\", ket_qua)\n"
   ]
  }
 ],
 "metadata": {
  "kernelspec": {
   "display_name": ".venv",
   "language": "python",
   "name": "python3"
  },
  "language_info": {
   "codemirror_mode": {
    "name": "ipython",
    "version": 3
   },
   "file_extension": ".py",
   "mimetype": "text/x-python",
   "name": "python",
   "nbconvert_exporter": "python",
   "pygments_lexer": "ipython3",
   "version": "3.13.7"
  }
 },
 "nbformat": 4,
 "nbformat_minor": 5
}
